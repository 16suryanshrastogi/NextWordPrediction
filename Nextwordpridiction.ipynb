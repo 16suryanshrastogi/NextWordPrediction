{
  "cells": [
    {
      "cell_type": "markdown",
      "metadata": {
        "id": "view-in-github",
        "colab_type": "text"
      },
      "source": [
        "<a href=\"https://colab.research.google.com/github/16suryanshrastogi/NextWordPrediction/blob/main/Nextwordpridiction.ipynb\" target=\"_parent\"><img src=\"https://colab.research.google.com/assets/colab-badge.svg\" alt=\"Open In Colab\"/></a>"
      ]
    },
    {
      "cell_type": "code",
      "execution_count": null,
      "metadata": {
        "id": "1bZdJBIn_BHW"
      },
      "outputs": [],
      "source": [
        "import numpy as np\n",
        "import tensorflow as tf\n",
        "from tensorflow.keras.preprocessing.text import Tokenizer\n",
        "from tensorflow.keras.preprocessing.sequence import pad_sequences\n",
        "from tensorflow.keras.models import Sequential\n",
        "from tensorflow.keras.layers import Embedding, LSTM, Dense\n",
        "\n",
        "# Read the text file\n",
        "with open('sherlock-holm.es_stories_plain-text_advs.txt', 'r', encoding='utf-8') as file:\n",
        "    text = file.read()"
      ]
    },
    {
      "cell_type": "code",
      "execution_count": null,
      "metadata": {
        "id": "S00hi0DWAKJp"
      },
      "outputs": [],
      "source": [
        "tokenizer = Tokenizer()\n",
        "tokenizer.fit_on_texts([text])\n",
        "total_words = len(tokenizer.word_index) + 1"
      ]
    },
    {
      "cell_type": "code",
      "execution_count": null,
      "metadata": {
        "id": "TJnbJXPlLdY4"
      },
      "outputs": [],
      "source": [
        "input_sequences = []\n",
        "for line in text.split('\\n'):\n",
        "    token_list = tokenizer.texts_to_sequences([line])[0]\n",
        "    for i in range(1, len(token_list)):\n",
        "        n_gram_sequence = token_list[:i+1]\n",
        "        input_sequences.append(n_gram_sequence)"
      ]
    },
    {
      "cell_type": "code",
      "execution_count": null,
      "metadata": {
        "id": "lgLVYqp3Lj3F"
      },
      "outputs": [],
      "source": [
        "max_sequence_len = max([len(seq) for seq in input_sequences])\n",
        "input_sequences = np.array(pad_sequences(input_sequences, maxlen=max_sequence_len, padding='pre'))"
      ]
    },
    {
      "cell_type": "code",
      "execution_count": null,
      "metadata": {
        "id": "je1WAY2ULoGW"
      },
      "outputs": [],
      "source": [
        "X = input_sequences[:, :-1]\n",
        "y = input_sequences[:, -1]"
      ]
    },
    {
      "cell_type": "code",
      "execution_count": null,
      "metadata": {
        "id": "gSL1XSGDLt4v"
      },
      "outputs": [],
      "source": [
        "y = np.array(tf.keras.utils.to_categorical(y, num_classes=total_words))"
      ]
    },
    {
      "cell_type": "code",
      "execution_count": null,
      "metadata": {
        "colab": {
          "base_uri": "https://localhost:8080/"
        },
        "id": "HSE2O8OgLy01",
        "outputId": "58fa1af1-238e-45e3-e26c-964045709864"
      },
      "outputs": [
        {
          "output_type": "stream",
          "name": "stdout",
          "text": [
            "Model: \"sequential\"\n",
            "_________________________________________________________________\n",
            " Layer (type)                Output Shape              Param #   \n",
            "=================================================================\n",
            " embedding (Embedding)       (None, 17, 100)           820000    \n",
            "                                                                 \n",
            " lstm (LSTM)                 (None, 150)               150600    \n",
            "                                                                 \n",
            " dense (Dense)               (None, 8200)              1238200   \n",
            "                                                                 \n",
            "=================================================================\n",
            "Total params: 2208800 (8.43 MB)\n",
            "Trainable params: 2208800 (8.43 MB)\n",
            "Non-trainable params: 0 (0.00 Byte)\n",
            "_________________________________________________________________\n",
            "None\n"
          ]
        }
      ],
      "source": [
        "model = Sequential()\n",
        "model.add(Embedding(total_words, 100, input_length=max_sequence_len-1))\n",
        "model.add(LSTM(150))\n",
        "model.add(Dense(total_words, activation='softmax'))\n",
        "print(model.summary())"
      ]
    },
    {
      "cell_type": "code",
      "execution_count": null,
      "metadata": {
        "colab": {
          "base_uri": "https://localhost:8080/"
        },
        "id": "AWS0NVnjL5Jm",
        "outputId": "8ea1a395-fc92-4148-8f92-f9a603b16b38"
      },
      "outputs": [
        {
          "output_type": "stream",
          "name": "stdout",
          "text": [
            "Epoch 1/100\n",
            "3010/3010 [==============================] - 47s 13ms/step - loss: 6.2472 - accuracy: 0.0758\n",
            "Epoch 2/100\n",
            "3010/3010 [==============================] - 23s 8ms/step - loss: 5.5149 - accuracy: 0.1244\n",
            "Epoch 3/100\n",
            "3010/3010 [==============================] - 22s 7ms/step - loss: 5.1256 - accuracy: 0.1461\n",
            "Epoch 4/100\n",
            "3010/3010 [==============================] - 22s 7ms/step - loss: 4.7930 - accuracy: 0.1647\n",
            "Epoch 5/100\n",
            "3010/3010 [==============================] - 22s 7ms/step - loss: 4.4865 - accuracy: 0.1818\n",
            "Epoch 6/100\n",
            "3010/3010 [==============================] - 23s 8ms/step - loss: 4.1995 - accuracy: 0.2017\n",
            "Epoch 7/100\n",
            "3010/3010 [==============================] - 22s 7ms/step - loss: 3.9284 - accuracy: 0.2276\n",
            "Epoch 8/100\n",
            "3010/3010 [==============================] - 22s 7ms/step - loss: 3.6731 - accuracy: 0.2558\n",
            "Epoch 9/100\n",
            "3010/3010 [==============================] - 22s 7ms/step - loss: 3.4314 - accuracy: 0.2906\n",
            "Epoch 10/100\n",
            "3010/3010 [==============================] - 22s 7ms/step - loss: 3.2050 - accuracy: 0.3251\n",
            "Epoch 11/100\n",
            "3010/3010 [==============================] - 23s 8ms/step - loss: 2.9963 - accuracy: 0.3602\n",
            "Epoch 12/100\n",
            "3010/3010 [==============================] - 22s 7ms/step - loss: 2.8026 - accuracy: 0.3963\n",
            "Epoch 13/100\n",
            "3010/3010 [==============================] - 22s 7ms/step - loss: 2.6264 - accuracy: 0.4287\n",
            "Epoch 14/100\n",
            "3010/3010 [==============================] - 22s 7ms/step - loss: 2.4626 - accuracy: 0.4600\n",
            "Epoch 15/100\n",
            "3010/3010 [==============================] - 22s 7ms/step - loss: 2.3131 - accuracy: 0.4891\n",
            "Epoch 16/100\n",
            "3010/3010 [==============================] - 21s 7ms/step - loss: 2.1744 - accuracy: 0.5172\n",
            "Epoch 17/100\n",
            "3010/3010 [==============================] - 22s 7ms/step - loss: 2.0468 - accuracy: 0.5445\n",
            "Epoch 18/100\n",
            "3010/3010 [==============================] - 22s 7ms/step - loss: 1.9326 - accuracy: 0.5698\n",
            "Epoch 19/100\n",
            "3010/3010 [==============================] - 22s 7ms/step - loss: 1.8276 - accuracy: 0.5895\n",
            "Epoch 20/100\n",
            "3010/3010 [==============================] - 22s 7ms/step - loss: 1.7295 - accuracy: 0.6116\n",
            "Epoch 21/100\n",
            "3010/3010 [==============================] - 22s 7ms/step - loss: 1.6409 - accuracy: 0.6316\n",
            "Epoch 22/100\n",
            "3010/3010 [==============================] - 23s 8ms/step - loss: 1.5579 - accuracy: 0.6486\n",
            "Epoch 23/100\n",
            "3010/3010 [==============================] - 22s 7ms/step - loss: 1.4845 - accuracy: 0.6653\n",
            "Epoch 24/100\n",
            "3010/3010 [==============================] - 21s 7ms/step - loss: 1.4145 - accuracy: 0.6803\n",
            "Epoch 25/100\n",
            "3010/3010 [==============================] - 22s 7ms/step - loss: 1.3517 - accuracy: 0.6931\n",
            "Epoch 26/100\n",
            "3010/3010 [==============================] - 22s 7ms/step - loss: 1.2935 - accuracy: 0.7069\n",
            "Epoch 27/100\n",
            "3010/3010 [==============================] - 22s 7ms/step - loss: 1.2384 - accuracy: 0.7188\n",
            "Epoch 28/100\n",
            "3010/3010 [==============================] - 21s 7ms/step - loss: 1.1893 - accuracy: 0.7282\n",
            "Epoch 29/100\n",
            "3010/3010 [==============================] - 22s 7ms/step - loss: 1.1412 - accuracy: 0.7383\n",
            "Epoch 30/100\n",
            "3010/3010 [==============================] - 22s 7ms/step - loss: 1.0987 - accuracy: 0.7490\n",
            "Epoch 31/100\n",
            "3010/3010 [==============================] - 21s 7ms/step - loss: 1.0625 - accuracy: 0.7565\n",
            "Epoch 32/100\n",
            "3010/3010 [==============================] - 21s 7ms/step - loss: 1.0238 - accuracy: 0.7659\n",
            "Epoch 33/100\n",
            "3010/3010 [==============================] - 22s 7ms/step - loss: 0.9900 - accuracy: 0.7726\n",
            "Epoch 34/100\n",
            "3010/3010 [==============================] - 22s 7ms/step - loss: 0.9585 - accuracy: 0.7787\n",
            "Epoch 35/100\n",
            "3010/3010 [==============================] - 21s 7ms/step - loss: 0.9297 - accuracy: 0.7863\n",
            "Epoch 36/100\n",
            "3010/3010 [==============================] - 22s 7ms/step - loss: 0.9032 - accuracy: 0.7902\n",
            "Epoch 37/100\n",
            "3010/3010 [==============================] - 22s 7ms/step - loss: 0.8778 - accuracy: 0.7963\n",
            "Epoch 38/100\n",
            "3010/3010 [==============================] - 22s 7ms/step - loss: 0.8534 - accuracy: 0.8014\n",
            "Epoch 39/100\n",
            "3010/3010 [==============================] - 21s 7ms/step - loss: 0.8304 - accuracy: 0.8066\n",
            "Epoch 40/100\n",
            "3010/3010 [==============================] - 22s 7ms/step - loss: 0.8113 - accuracy: 0.8117\n",
            "Epoch 41/100\n",
            "3010/3010 [==============================] - 22s 7ms/step - loss: 0.7937 - accuracy: 0.8140\n",
            "Epoch 42/100\n",
            "3010/3010 [==============================] - 22s 7ms/step - loss: 0.7754 - accuracy: 0.8184\n",
            "Epoch 43/100\n",
            "3010/3010 [==============================] - 21s 7ms/step - loss: 0.7614 - accuracy: 0.8205\n",
            "Epoch 44/100\n",
            "3010/3010 [==============================] - 22s 7ms/step - loss: 0.7436 - accuracy: 0.8251\n",
            "Epoch 45/100\n",
            "3010/3010 [==============================] - 22s 7ms/step - loss: 0.7313 - accuracy: 0.8281\n",
            "Epoch 46/100\n",
            "3010/3010 [==============================] - 22s 7ms/step - loss: 0.7147 - accuracy: 0.8302\n",
            "Epoch 47/100\n",
            "3010/3010 [==============================] - 21s 7ms/step - loss: 0.7066 - accuracy: 0.8324\n",
            "Epoch 48/100\n",
            "3010/3010 [==============================] - 22s 7ms/step - loss: 0.6915 - accuracy: 0.8370\n",
            "Epoch 49/100\n",
            "3010/3010 [==============================] - 22s 7ms/step - loss: 0.6841 - accuracy: 0.8367\n",
            "Epoch 50/100\n",
            "3010/3010 [==============================] - 21s 7ms/step - loss: 0.6717 - accuracy: 0.8387\n",
            "Epoch 51/100\n",
            "3010/3010 [==============================] - 21s 7ms/step - loss: 0.6626 - accuracy: 0.8417\n",
            "Epoch 52/100\n",
            "3010/3010 [==============================] - 22s 7ms/step - loss: 0.6528 - accuracy: 0.8434\n",
            "Epoch 53/100\n",
            "3010/3010 [==============================] - 22s 7ms/step - loss: 0.6463 - accuracy: 0.8437\n",
            "Epoch 54/100\n",
            "3010/3010 [==============================] - 21s 7ms/step - loss: 0.6362 - accuracy: 0.8466\n",
            "Epoch 55/100\n",
            "3010/3010 [==============================] - 22s 7ms/step - loss: 0.6348 - accuracy: 0.8452\n",
            "Epoch 56/100\n",
            "3010/3010 [==============================] - 22s 7ms/step - loss: 0.6237 - accuracy: 0.8479\n",
            "Epoch 57/100\n",
            "3010/3010 [==============================] - 22s 7ms/step - loss: 0.6127 - accuracy: 0.8515\n",
            "Epoch 58/100\n",
            "3010/3010 [==============================] - 21s 7ms/step - loss: 0.6140 - accuracy: 0.8509\n",
            "Epoch 59/100\n",
            "3010/3010 [==============================] - 22s 7ms/step - loss: 0.6062 - accuracy: 0.8515\n",
            "Epoch 60/100\n",
            "3010/3010 [==============================] - 22s 7ms/step - loss: 0.6026 - accuracy: 0.8523\n",
            "Epoch 61/100\n",
            "3010/3010 [==============================] - 22s 7ms/step - loss: 0.5921 - accuracy: 0.8554\n",
            "Epoch 62/100\n",
            "3010/3010 [==============================] - 21s 7ms/step - loss: 0.5930 - accuracy: 0.8541\n",
            "Epoch 63/100\n",
            "3010/3010 [==============================] - 22s 7ms/step - loss: 0.5857 - accuracy: 0.8558\n",
            "Epoch 64/100\n",
            "3010/3010 [==============================] - 22s 7ms/step - loss: 0.5872 - accuracy: 0.8543\n",
            "Epoch 65/100\n",
            "3010/3010 [==============================] - 22s 7ms/step - loss: 0.5821 - accuracy: 0.8560\n",
            "Epoch 66/100\n",
            "3010/3010 [==============================] - 21s 7ms/step - loss: 0.5724 - accuracy: 0.8578\n",
            "Epoch 67/100\n",
            "3010/3010 [==============================] - 22s 7ms/step - loss: 0.5725 - accuracy: 0.8574\n",
            "Epoch 68/100\n",
            "3010/3010 [==============================] - 23s 8ms/step - loss: 0.5653 - accuracy: 0.8582\n",
            "Epoch 69/100\n",
            "3010/3010 [==============================] - 21s 7ms/step - loss: 0.5650 - accuracy: 0.8593\n",
            "Epoch 70/100\n",
            "3010/3010 [==============================] - 22s 7ms/step - loss: 0.5625 - accuracy: 0.8590\n",
            "Epoch 71/100\n",
            "3010/3010 [==============================] - 22s 7ms/step - loss: 0.5576 - accuracy: 0.8600\n",
            "Epoch 72/100\n",
            "3010/3010 [==============================] - 22s 7ms/step - loss: 0.5563 - accuracy: 0.8601\n",
            "Epoch 73/100\n",
            "3010/3010 [==============================] - 21s 7ms/step - loss: 0.5525 - accuracy: 0.8609\n",
            "Epoch 74/100\n",
            "3010/3010 [==============================] - 22s 7ms/step - loss: 0.5514 - accuracy: 0.8610\n",
            "Epoch 75/100\n",
            "3010/3010 [==============================] - 22s 7ms/step - loss: 0.5459 - accuracy: 0.8627\n",
            "Epoch 76/100\n",
            "3010/3010 [==============================] - 22s 7ms/step - loss: 0.5465 - accuracy: 0.8616\n",
            "Epoch 77/100\n",
            "3010/3010 [==============================] - 21s 7ms/step - loss: 0.5459 - accuracy: 0.8609\n",
            "Epoch 78/100\n",
            "3010/3010 [==============================] - 22s 7ms/step - loss: 0.5407 - accuracy: 0.8620\n",
            "Epoch 79/100\n",
            "3010/3010 [==============================] - 21s 7ms/step - loss: 0.5402 - accuracy: 0.8630\n",
            "Epoch 80/100\n",
            "3010/3010 [==============================] - 21s 7ms/step - loss: 0.5408 - accuracy: 0.8624\n",
            "Epoch 81/100\n",
            "3010/3010 [==============================] - 21s 7ms/step - loss: 0.5367 - accuracy: 0.8629\n",
            "Epoch 82/100\n",
            "3010/3010 [==============================] - 21s 7ms/step - loss: 0.5324 - accuracy: 0.8645\n",
            "Epoch 83/100\n",
            "3010/3010 [==============================] - 22s 7ms/step - loss: 0.5387 - accuracy: 0.8632\n",
            "Epoch 84/100\n",
            "3010/3010 [==============================] - 22s 7ms/step - loss: 0.5340 - accuracy: 0.8627\n",
            "Epoch 85/100\n",
            "3010/3010 [==============================] - 22s 7ms/step - loss: 0.5286 - accuracy: 0.8649\n",
            "Epoch 86/100\n",
            "3010/3010 [==============================] - 22s 7ms/step - loss: 0.5285 - accuracy: 0.8649\n",
            "Epoch 87/100\n",
            "3010/3010 [==============================] - 22s 7ms/step - loss: 0.5265 - accuracy: 0.8643\n",
            "Epoch 88/100\n",
            "3010/3010 [==============================] - 21s 7ms/step - loss: 0.5267 - accuracy: 0.8643\n",
            "Epoch 89/100\n",
            "3010/3010 [==============================] - 21s 7ms/step - loss: 0.5249 - accuracy: 0.8639\n",
            "Epoch 90/100\n",
            "3010/3010 [==============================] - 22s 7ms/step - loss: 0.5244 - accuracy: 0.8654\n",
            "Epoch 91/100\n",
            "3010/3010 [==============================] - 22s 7ms/step - loss: 0.5238 - accuracy: 0.8646\n",
            "Epoch 92/100\n",
            "3010/3010 [==============================] - 22s 7ms/step - loss: 0.5210 - accuracy: 0.8644\n",
            "Epoch 93/100\n",
            "3010/3010 [==============================] - 22s 7ms/step - loss: 0.5218 - accuracy: 0.8645\n",
            "Epoch 94/100\n",
            "3010/3010 [==============================] - 22s 7ms/step - loss: 0.5156 - accuracy: 0.8663\n",
            "Epoch 95/100\n",
            "3010/3010 [==============================] - 21s 7ms/step - loss: 0.5176 - accuracy: 0.8654\n",
            "Epoch 96/100\n",
            "3010/3010 [==============================] - 21s 7ms/step - loss: 0.5153 - accuracy: 0.8664\n",
            "Epoch 97/100\n",
            "3010/3010 [==============================] - 22s 7ms/step - loss: 0.5120 - accuracy: 0.8669\n",
            "Epoch 98/100\n",
            "3010/3010 [==============================] - 21s 7ms/step - loss: 0.5207 - accuracy: 0.8642\n",
            "Epoch 99/100\n",
            "3010/3010 [==============================] - 21s 7ms/step - loss: 0.5152 - accuracy: 0.8656\n",
            "Epoch 100/100\n",
            "3010/3010 [==============================] - 22s 7ms/step - loss: 0.5177 - accuracy: 0.8638\n"
          ]
        },
        {
          "output_type": "execute_result",
          "data": {
            "text/plain": [
              "<keras.src.callbacks.History at 0x7e012d24a620>"
            ]
          },
          "metadata": {},
          "execution_count": 8
        }
      ],
      "source": [
        "model.compile(loss='categorical_crossentropy', optimizer='adam', metrics=['accuracy'])\n",
        "model.fit(X, y, epochs=100, verbose=1)"
      ]
    },
    {
      "cell_type": "code",
      "execution_count": 9,
      "metadata": {
        "id": "lRYs2DIPL-N5",
        "colab": {
          "base_uri": "https://localhost:8080/"
        },
        "outputId": "36e20528-9af9-4361-b2e4-14a69478924b"
      },
      "outputs": [
        {
          "output_type": "stream",
          "name": "stdout",
          "text": [
            "1/1 [==============================] - 1s 714ms/step\n",
            "1/1 [==============================] - 0s 32ms/step\n",
            "1/1 [==============================] - 0s 27ms/step\n",
            "I will leave if they came upon my\n"
          ]
        }
      ],
      "source": [
        "seed_text = \"I will leave if they\"\n",
        "next_words = 3\n",
        "\n",
        "for _ in range(next_words):\n",
        "    token_list = tokenizer.texts_to_sequences([seed_text])[0]\n",
        "    token_list = pad_sequences([token_list], maxlen=max_sequence_len-1, padding='pre')\n",
        "    predicted = np.argmax(model.predict(token_list), axis=-1)\n",
        "    output_word = \"\"\n",
        "    for word, index in tokenizer.word_index.items():\n",
        "        if index == predicted:\n",
        "            output_word = word\n",
        "            break\n",
        "    seed_text += \" \" + output_word\n",
        "\n",
        "print(seed_text)"
      ]
    }
  ],
  "metadata": {
    "colab": {
      "provenance": [],
      "gpuType": "T4",
      "authorship_tag": "ABX9TyM8gzrfyocRkPu3+JF3JRRb",
      "include_colab_link": true
    },
    "kernelspec": {
      "display_name": "Python 3",
      "name": "python3"
    },
    "language_info": {
      "name": "python"
    },
    "accelerator": "GPU"
  },
  "nbformat": 4,
  "nbformat_minor": 0
}