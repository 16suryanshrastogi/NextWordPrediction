{
  "cells": [
    {
      "cell_type": "markdown",
      "metadata": {
        "id": "view-in-github",
        "colab_type": "text"
      },
      "source": [
        "<a href=\"https://colab.research.google.com/github/16suryanshrastogi/NextWordPrediction/blob/main/Nextwordpridiction.ipynb\" target=\"_parent\"><img src=\"https://colab.research.google.com/assets/colab-badge.svg\" alt=\"Open In Colab\"/></a>"
      ]
    },
    {
      "cell_type": "code",
      "execution_count": null,
      "metadata": {
        "id": "1bZdJBIn_BHW"
      },
      "outputs": [],
      "source": [
        "import numpy as np\n",
        "import tensorflow as tf\n",
        "from tensorflow.keras.preprocessing.text import Tokenizer\n",
        "from tensorflow.keras.preprocessing.sequence import pad_sequences\n",
        "from tensorflow.keras.models import Sequential\n",
        "from tensorflow.keras.layers import Embedding, LSTM, Dense\n",
        "\n",
        "# Read the text file\n",
        "with open('sherlock-holm.es_stories_plain-text_advs.txt', 'r', encoding='utf-8') as file:\n",
        "    text = file.read()"
      ]
    },
    {
      "cell_type": "code",
      "execution_count": null,
      "metadata": {
        "id": "S00hi0DWAKJp"
      },
      "outputs": [],
      "source": [
        "tokenizer = Tokenizer()\n",
        "tokenizer.fit_on_texts([text])\n",
        "total_words = len(tokenizer.word_index) + 1"
      ]
    },
    {
      "cell_type": "code",
      "execution_count": null,
      "metadata": {
        "id": "TJnbJXPlLdY4"
      },
      "outputs": [],
      "source": [
        "input_sequences = []\n",
        "for line in text.split('\\n'):\n",
        "    token_list = tokenizer.texts_to_sequences([line])[0]\n",
        "    for i in range(1, len(token_list)):\n",
        "        n_gram_sequence = token_list[:i+1]\n",
        "        input_sequences.append(n_gram_sequence)"
      ]
    },
    {
      "cell_type": "code",
      "execution_count": null,
      "metadata": {
        "id": "lgLVYqp3Lj3F"
      },
      "outputs": [],
      "source": [
        "max_sequence_len = max([len(seq) for seq in input_sequences])\n",
        "input_sequences = np.array(pad_sequences(input_sequences, maxlen=max_sequence_len, padding='pre'))"
      ]
    },
    {
      "cell_type": "code",
      "execution_count": null,
      "metadata": {
        "id": "je1WAY2ULoGW"
      },
      "outputs": [],
      "source": [
        "X = input_sequences[:, :-1]\n",
        "y = input_sequences[:, -1]"
      ]
    },
    {
      "cell_type": "code",
      "execution_count": null,
      "metadata": {
        "id": "gSL1XSGDLt4v"
      },
      "outputs": [],
      "source": [
        "y = np.array(tf.keras.utils.to_categorical(y, num_classes=total_words))"
      ]
    },
    {
      "cell_type": "code",
      "execution_count": null,
      "metadata": {
        "colab": {
          "base_uri": "https://localhost:8080/"
        },
        "id": "HSE2O8OgLy01",
        "outputId": "a8ad82fb-fa06-4b94-80b3-210d8d4115e7"
      },
      "outputs": [
        {
          "name": "stdout",
          "output_type": "stream",
          "text": [
            "Model: \"sequential\"\n",
            "_________________________________________________________________\n",
            " Layer (type)                Output Shape              Param #   \n",
            "=================================================================\n",
            " embedding (Embedding)       (None, 17, 100)           820000    \n",
            "                                                                 \n",
            " lstm (LSTM)                 (None, 150)               150600    \n",
            "                                                                 \n",
            " dense (Dense)               (None, 8200)              1238200   \n",
            "                                                                 \n",
            "=================================================================\n",
            "Total params: 2208800 (8.43 MB)\n",
            "Trainable params: 2208800 (8.43 MB)\n",
            "Non-trainable params: 0 (0.00 Byte)\n",
            "_________________________________________________________________\n",
            "None\n"
          ]
        }
      ],
      "source": [
        "model = Sequential()\n",
        "model.add(Embedding(total_words, 100, input_length=max_sequence_len-1))\n",
        "model.add(LSTM(150))\n",
        "model.add(Dense(total_words, activation='softmax'))\n",
        "print(model.summary())"
      ]
    },
    {
      "cell_type": "code",
      "execution_count": null,
      "metadata": {
        "colab": {
          "background_save": true,
          "base_uri": "https://localhost:8080/"
        },
        "id": "AWS0NVnjL5Jm",
        "outputId": "5c3be821-cbac-4d85-d64e-908e8b5fc068"
      },
      "outputs": [
        {
          "name": "stdout",
          "output_type": "stream",
          "text": [
            "Epoch 1/50\n",
            "3010/3010 [==============================] - 217s 71ms/step - loss: 6.2277 - accuracy: 0.0782\n",
            "Epoch 2/50\n",
            "3010/3010 [==============================] - 210s 70ms/step - loss: 5.4917 - accuracy: 0.1251\n",
            "Epoch 3/50\n",
            "3010/3010 [==============================] - 209s 69ms/step - loss: 5.1084 - accuracy: 0.1468\n",
            "Epoch 4/50\n",
            "3010/3010 [==============================] - 204s 68ms/step - loss: 4.7770 - accuracy: 0.1647\n",
            "Epoch 5/50\n",
            "3010/3010 [==============================] - 205s 68ms/step - loss: 4.4726 - accuracy: 0.1845\n",
            "Epoch 6/50\n",
            "3010/3010 [==============================] - 209s 69ms/step - loss: 4.1889 - accuracy: 0.2046\n",
            "Epoch 7/50\n",
            "3010/3010 [==============================] - 205s 68ms/step - loss: 3.9183 - accuracy: 0.2302\n",
            "Epoch 8/50\n",
            "3010/3010 [==============================] - 209s 69ms/step - loss: 3.6613 - accuracy: 0.2605\n",
            "Epoch 9/50\n",
            "3010/3010 [==============================] - 211s 70ms/step - loss: 3.4176 - accuracy: 0.2948\n",
            "Epoch 10/50\n",
            "3010/3010 [==============================] - 206s 69ms/step - loss: 3.1906 - accuracy: 0.3293\n",
            "Epoch 11/50\n",
            "3010/3010 [==============================] - 208s 69ms/step - loss: 2.9793 - accuracy: 0.3650\n",
            "Epoch 12/50\n",
            "3010/3010 [==============================] - 211s 70ms/step - loss: 2.7858 - accuracy: 0.3999\n",
            "Epoch 13/50\n",
            "3010/3010 [==============================] - 208s 69ms/step - loss: 2.6056 - accuracy: 0.4338\n",
            "Epoch 14/50\n",
            "3010/3010 [==============================] - 201s 67ms/step - loss: 2.4418 - accuracy: 0.4652\n",
            "Epoch 15/50\n",
            "3010/3010 [==============================] - 210s 70ms/step - loss: 2.2877 - accuracy: 0.4964\n",
            "Epoch 16/50\n",
            "3010/3010 [==============================] - 208s 69ms/step - loss: 2.1502 - accuracy: 0.5249\n",
            "Epoch 17/50\n",
            "3010/3010 [==============================] - 210s 70ms/step - loss: 2.0250 - accuracy: 0.5506\n",
            "Epoch 18/50\n",
            "3010/3010 [==============================] - 211s 70ms/step - loss: 1.9069 - accuracy: 0.5751\n",
            "Epoch 19/50\n",
            "3010/3010 [==============================] - 209s 70ms/step - loss: 1.8004 - accuracy: 0.5982\n",
            "Epoch 20/50\n",
            "3010/3010 [==============================] - 206s 68ms/step - loss: 1.7012 - accuracy: 0.6177\n",
            "Epoch 21/50\n",
            "3010/3010 [==============================] - 205s 68ms/step - loss: 1.6119 - accuracy: 0.6397\n",
            "Epoch 22/50\n",
            "3010/3010 [==============================] - 210s 70ms/step - loss: 1.5324 - accuracy: 0.6537\n",
            "Epoch 23/50\n",
            "3010/3010 [==============================] - 207s 69ms/step - loss: 1.4546 - accuracy: 0.6722\n",
            "Epoch 24/50\n",
            "3010/3010 [==============================] - 208s 69ms/step - loss: 1.3857 - accuracy: 0.6881\n",
            "Epoch 25/50\n",
            "3010/3010 [==============================] - 209s 70ms/step - loss: 1.3224 - accuracy: 0.7010\n",
            "Epoch 26/50\n",
            "3010/3010 [==============================] - 209s 69ms/step - loss: 1.2629 - accuracy: 0.7147\n",
            "Epoch 27/50\n",
            "3010/3010 [==============================] - 208s 69ms/step - loss: 1.2104 - accuracy: 0.7256\n",
            "Epoch 28/50\n",
            "3010/3010 [==============================] - 206s 69ms/step - loss: 1.1592 - accuracy: 0.7360\n",
            "Epoch 29/50\n",
            "3010/3010 [==============================] - 207s 69ms/step - loss: 1.1178 - accuracy: 0.7463\n",
            "Epoch 30/50\n",
            "3010/3010 [==============================] - 207s 69ms/step - loss: 1.0753 - accuracy: 0.7544\n",
            "Epoch 31/50\n",
            "3010/3010 [==============================] - 207s 69ms/step - loss: 1.0345 - accuracy: 0.7637\n",
            "Epoch 32/50\n",
            "3010/3010 [==============================] - 201s 67ms/step - loss: 1.0007 - accuracy: 0.7717\n",
            "Epoch 33/50\n",
            "3010/3010 [==============================] - 206s 69ms/step - loss: 0.9671 - accuracy: 0.7795\n",
            "Epoch 34/50\n",
            "3010/3010 [==============================] - 211s 70ms/step - loss: 0.9364 - accuracy: 0.7854\n",
            "Epoch 35/50\n",
            "3010/3010 [==============================] - 208s 69ms/step - loss: 0.9082 - accuracy: 0.7915\n",
            "Epoch 36/50\n",
            "3010/3010 [==============================] - 206s 69ms/step - loss: 0.8831 - accuracy: 0.7964\n",
            "Epoch 37/50\n",
            "3010/3010 [==============================] - 217s 72ms/step - loss: 0.8584 - accuracy: 0.8015\n",
            "Epoch 38/50\n",
            "3010/3010 [==============================] - 207s 69ms/step - loss: 0.8350 - accuracy: 0.8071\n",
            "Epoch 39/50\n",
            "3010/3010 [==============================] - 206s 68ms/step - loss: 0.8164 - accuracy: 0.8121\n",
            "Epoch 40/50\n",
            "3010/3010 [==============================] - 209s 69ms/step - loss: 0.7958 - accuracy: 0.8146\n",
            "Epoch 41/50\n",
            "3010/3010 [==============================] - 202s 67ms/step - loss: 0.7780 - accuracy: 0.8181\n",
            "Epoch 42/50\n",
            "3010/3010 [==============================] - 187s 62ms/step - loss: 0.7611 - accuracy: 0.8216\n",
            "Epoch 43/50\n",
            "3010/3010 [==============================] - 192s 64ms/step - loss: 0.7447 - accuracy: 0.8253\n",
            "Epoch 44/50\n",
            "3010/3010 [==============================] - 192s 64ms/step - loss: 0.7317 - accuracy: 0.8278\n",
            "Epoch 45/50\n",
            "3010/3010 [==============================] - 194s 64ms/step - loss: 0.7182 - accuracy: 0.8306\n",
            "Epoch 46/50\n",
            "3010/3010 [==============================] - 197s 66ms/step - loss: 0.7083 - accuracy: 0.8315\n",
            "Epoch 47/50\n",
            "3010/3010 [==============================] - 196s 65ms/step - loss: 0.6944 - accuracy: 0.8349\n",
            "Epoch 48/50\n",
            "3010/3010 [==============================] - 196s 65ms/step - loss: 0.6834 - accuracy: 0.8372\n",
            "Epoch 49/50\n",
            "3010/3010 [==============================] - 200s 66ms/step - loss: 0.6714 - accuracy: 0.8401\n",
            "Epoch 50/50\n",
            "3010/3010 [==============================] - 199s 66ms/step - loss: 0.6652 - accuracy: 0.8407\n"
          ]
        },
        {
          "data": {
            "text/plain": [
              "<keras.src.callbacks.History at 0x7eed71b8d690>"
            ]
          },
          "execution_count": 10,
          "metadata": {},
          "output_type": "execute_result"
        }
      ],
      "source": [
        "model.compile(loss='categorical_crossentropy', optimizer='adam', metrics=['accuracy'])\n",
        "model.fit(X, y, epochs=50, verbose=1)"
      ]
    },
    {
      "cell_type": "code",
      "execution_count": null,
      "metadata": {
        "colab": {
          "background_save": true
        },
        "id": "lRYs2DIPL-N5"
      },
      "outputs": [],
      "source": []
    }
  ],
  "metadata": {
    "colab": {
      "provenance": [],
      "authorship_tag": "ABX9TyMQJiwR9f7fOKgk8GdySsDT",
      "include_colab_link": true
    },
    "kernelspec": {
      "display_name": "Python 3",
      "name": "python3"
    },
    "language_info": {
      "name": "python"
    }
  },
  "nbformat": 4,
  "nbformat_minor": 0
}